{
  "nbformat": 4,
  "nbformat_minor": 0,
  "metadata": {
    "colab": {
      "provenance": [],
      "include_colab_link": true
    },
    "kernelspec": {
      "name": "python3",
      "display_name": "Python 3"
    },
    "language_info": {
      "name": "python"
    }
  },
  "cells": [
    {
      "cell_type": "markdown",
      "metadata": {
        "id": "view-in-github",
        "colab_type": "text"
      },
      "source": [
        "<a href=\"https://colab.research.google.com/github/dhatri-12/DSA/blob/main/covtypeEC.ipynb\" target=\"_parent\"><img src=\"https://colab.research.google.com/assets/colab-badge.svg\" alt=\"Open In Colab\"/></a>"
      ]
    },
    {
      "cell_type": "code",
      "execution_count": 1,
      "metadata": {
        "id": "u_DB0wr8W5aj"
      },
      "outputs": [],
      "source": [
        "from sklearn.datasets import fetch_covtype\n",
        "from sklearn import tree\n",
        "from sklearn.model_selection import train_test_split\n",
        "from sklearn.neighbors import KNeighborsClassifier\n",
        "from sklearn.metrics import accuracy_score\n",
        "\n",
        "# Load dataset into ctype\n",
        "ctype=fetch_covtype(shuffle=True)\n"
      ]
    },
    {
      "cell_type": "markdown",
      "source": [
        "\n",
        "### About the Datatset:\n",
        "\n",
        "Dataset name : Covertype Dataset\n",
        "\n",
        "This data set is used for classifying pixels into one of seven forest cover types.\n",
        "\n",
        "The dataset contains 581,012 examples.\n",
        "\n",
        "It features 54 attributes, including both categorical and integer types.\n",
        "\n",
        "The attributes encompass various environmental factors such as elevation, aspect, slope, and distances to hydrological features.\n",
        "\n",
        "There are also binary columns representing wilderness areas and soil types. The classes correspond to forest cover types."
      ],
      "metadata": {
        "id": "LO5mppNwhvpY"
      }
    },
    {
      "cell_type": "code",
      "source": [
        "X, y = ctype.data, ctype.target\n",
        "\n",
        "clf = tree.DecisionTreeClassifier()\n",
        "\n",
        "X_train, X_test, y_train, y_test = train_test_split(X, y, test_size=0.5, random_state=0)\n",
        "\n",
        "y_pred_50 = clf.fit(X_train, y_train).predict(X_test)\n",
        "print(\"Number of mislabeled points Decision Tree out of a total %d points : %d\"\n",
        "       % (X_test.shape[0], (y_test != y_pred_50).sum()))\n",
        "\n",
        "accuracy_dt_50 = accuracy_score(y_test, y_pred_50)\n",
        "print(f\"Decision Tree Accuracy for 50% test data: {accuracy_dt_50}\")\n"
      ],
      "metadata": {
        "id": "3W9pcP8OXcNs",
        "colab": {
          "base_uri": "https://localhost:8080/"
        },
        "outputId": "5281d146-2378-4870-8fbb-e87bd60c264a"
      },
      "execution_count": 2,
      "outputs": [
        {
          "output_type": "stream",
          "name": "stdout",
          "text": [
            "Number of mislabeled points Decision Tree out of a total 290506 points : 22589\n",
            "Decision Tree Accuracy for 50% test data: 0.9222425698608635\n"
          ]
        }
      ]
    },
    {
      "cell_type": "code",
      "source": [
        "clf = tree.DecisionTreeClassifier()\n",
        "\n",
        "X_train, X_test, y_train, y_test = train_test_split(X, y, test_size=0.2, random_state=0)\n",
        "\n",
        "y_pred_20 = clf.fit(X_train, y_train).predict(X_test)\n",
        "\n",
        "print(\"Number of mislabeled points Decision Tree out of a total %d points : %d\"\n",
        "       % (X_test.shape[0], (y_test != y_pred_20).sum()))\n",
        "\n",
        "accuracy_dt_20 = accuracy_score(y_test, y_pred_20)\n",
        "print(f\"Decision Tree Accuracy for 20% test data: {accuracy_dt_20}\")"
      ],
      "metadata": {
        "colab": {
          "base_uri": "https://localhost:8080/"
        },
        "id": "Ft34cGRxevQD",
        "outputId": "dda63d16-52a3-4c43-b453-ebf162d7dfca"
      },
      "execution_count": 3,
      "outputs": [
        {
          "output_type": "stream",
          "name": "stdout",
          "text": [
            "Number of mislabeled points Decision Tree out of a total 116203 points : 6970\n",
            "Decision Tree Accuracy for 20% test data: 0.9400187602729706\n"
          ]
        }
      ]
    },
    {
      "cell_type": "code",
      "source": [
        "# split data to train/test\n",
        "X_train, X_test, y_train, y_test = train_test_split(X, y, test_size=0.5, random_state=0)\n",
        "\n",
        "#Single nearest neighbor\n",
        "neigh = KNeighborsClassifier(n_neighbors=1)\n",
        "\n",
        "#Build NN classifier and predict\n",
        "sy_pred = neigh.fit(X_train, y_train).predict(X_test)\n",
        "\n",
        "print(\"Number of mislabeled points 1NN out of a total %d points : %d\"\n",
        "       % (X_test.shape[0], (y_test != sy_pred).sum()))\n",
        "\n",
        "accuracy_nn = accuracy_score(y_test, sy_pred)\n",
        "\n",
        "print(f\"Nearest Neighbor Accuracy: {accuracy_nn}\")"
      ],
      "metadata": {
        "id": "TmVYKqk1X_UF",
        "colab": {
          "base_uri": "https://localhost:8080/"
        },
        "outputId": "675c32ec-6e96-43d0-9d8a-4ef5094e42a3"
      },
      "execution_count": 4,
      "outputs": [
        {
          "output_type": "stream",
          "name": "stdout",
          "text": [
            "Number of mislabeled points 1NN out of a total 290506 points : 11406\n",
            "Nearest Neighbor Accuracy: 0.9607374718594452\n"
          ]
        }
      ]
    },
    {
      "cell_type": "markdown",
      "source": [
        "### **Decision Tree Classifier Performance**\n",
        "\n",
        "Decision Tree accuracy for 50% test data is 92.22%.\n",
        "\n",
        "Decision Tree accuracy for 20% test data is 94.00%.\n",
        "\n",
        "This improvement between the two test sizes (50% vs. 20%) accuracy is about 1.78%.\n",
        "\n",
        "### **k-Nearest Neighbors Classifier (1-NN) Performance**\n",
        "\n",
        "When using 50% of the dataset for testing, the 1-NN classifier hits an accuracy of 96.07%.\n"
      ],
      "metadata": {
        "id": "4zBshAHe7oQz"
      }
    },
    {
      "cell_type": "markdown",
      "source": [
        "### **Comparing the two models:**\n",
        "\n",
        "\n",
        "The 1-NN model is more accurate than the Decision Tree when both use half the data for testing. It got 96.07% right compared to 92.22%.\n",
        "\n",
        "But, 1-NN takes more time and computer power, especially with big datasets. The Decision Tree is quicker and easier to understand because it shows you how it makes decisions."
      ],
      "metadata": {
        "id": "H_BihnlD9DDw"
      }
    },
    {
      "cell_type": "code",
      "source": [],
      "metadata": {
        "id": "NPL9VZCNAUBm"
      },
      "execution_count": null,
      "outputs": []
    }
  ]
}